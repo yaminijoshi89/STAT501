{
 "cells": [
  {
   "cell_type": "code",
   "execution_count": 11,
   "metadata": {},
   "outputs": [],
   "source": [
    "import numpy as np\n",
    "import pandas as pd\n",
    "import matplotlib.pyplot as plt\n",
    "%matplotlib inline"
   ]
  },
  {
   "cell_type": "code",
   "execution_count": 44,
   "metadata": {},
   "outputs": [],
   "source": [
    "filename = 'DataSets//index.txt'\n",
    "x,y = np.loadtxt(filename,dtype='str',usecols=(0,1),unpack=True)"
   ]
  },
  {
   "cell_type": "code",
   "execution_count": 94,
   "metadata": {},
   "outputs": [],
   "source": [
    "def func_y_pred(x,m,b):\n",
    "    return (m+b*x)"
   ]
  },
  {
   "cell_type": "code",
   "execution_count": 66,
   "metadata": {},
   "outputs": [],
   "source": [
    "x = x.astype('int64')\n",
    "y = y.astype('int64')"
   ]
  },
  {
   "cell_type": "code",
   "execution_count": 71,
   "metadata": {},
   "outputs": [
    {
     "name": "stdout",
     "output_type": "stream",
     "text": [
      "2\n",
      "138\n",
      "4\n",
      "40\n"
     ]
    }
   ],
   "source": [
    "print(x.min())\n",
    "print(x.max())\n",
    "print(y.min())\n",
    "print(y.max())"
   ]
  },
  {
   "cell_type": "code",
   "execution_count": 82,
   "metadata": {},
   "outputs": [
    {
     "data": {
      "text/plain": [
       "[<matplotlib.lines.Line2D at 0x28a798a2320>]"
      ]
     },
     "execution_count": 82,
     "metadata": {},
     "output_type": "execute_result"
    },
    {
     "data": {
      "image/png": "[encoded data removed]",
      "text/plain": [
       "<Figure size 432x288 with 1 Axes>"
      ]
     },
     "metadata": {
      "needs_background": "light"
     },
     "output_type": "display_data"
    }
   ],
   "source": [
    "plt.axis(xmin=0,xmax=140,ymin=0,ymax=40)\n",
    "plt.plot(x,y,'*')"
   ]
  },
  {
   "cell_type": "code",
   "execution_count": 92,
   "metadata": {},
   "outputs": [],
   "source": [
    "def get_(x,y):\n",
    "    y_mean = np.divide(np.sum(y),len(y))\n",
    "    x_mean = np.divide(np.sum(x),len(x))\n",
    "    \n",
    "    x_term = x-x_mean\n",
    "    y_term = y-y_mean\n",
    "    m_num = np.sum(x_term*y_term)\n",
    "    m_den = np.sum(np.power(x_term,2))\n",
    "    \n",
    "    b = np.divide(m_num,m_den)\n",
    "    m = y_mean-b*x_mean\n",
    "    \n",
    "    return m,b"
   ]
  },
  {
   "cell_type": "code",
   "execution_count": 111,
   "metadata": {},
   "outputs": [],
   "source": [
    "def func_sq_err(y,y_hat):\n",
    "    r_num = np.sum(np.power(y_hat,2))\n",
    "    m = len(y)\n",
    "    err = np.sqrt(np.divide(r_num,m))\n",
    "    return err"
   ]
  },
  {
   "cell_type": "code",
   "execution_count": 117,
   "metadata": {},
   "outputs": [
    {
     "name": "stdout",
     "output_type": "stream",
     "text": [
      "m :  8.024522686506431\n",
      "b :  0.27901864457713266\n",
      "r2 :  3.467354561792638\n"
     ]
    }
   ],
   "source": [
    "m,b = least_sq_err(x,y)\n",
    "y_pred = func_y_pred(x,m,b)\n",
    "y_hat = y-y_pred\n",
    "err = func_sq_err(y,y_hat)\n",
    "print(\"m : \",m)\n",
    "print(\"b : \",b)\n",
    "print(\"r2 : \",err)"
   ]
  },
  {
   "cell_type": "code",
   "execution_count": null,
   "metadata": {},
   "outputs": [],
   "source": [
    "def func_least_sq_err(x,y):\n",
    "    y-(m+b*x)"
   ]
  }
 ],
 "metadata": {
  "kernelspec": {
   "display_name": "Python 3",
   "language": "python",
   "name": "python3"
  },
  "language_info": {
   "codemirror_mode": {
    "name": "ipython",
    "version": 3
   },
   "file_extension": ".py",
   "mimetype": "text/x-python",
   "name": "python",
   "nbconvert_exporter": "python",
   "pygments_lexer": "ipython3",
   "version": "3.7.3"
  }
 },
 "nbformat": 4,
 "nbformat_minor": 2
}
